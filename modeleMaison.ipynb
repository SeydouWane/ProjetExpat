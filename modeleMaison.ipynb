{
 "cells": [
  {
   "cell_type": "code",
   "execution_count": 1,
   "metadata": {},
   "outputs": [],
   "source": [
    "import pandas as pd\n",
    "import matplotlib.pyplot as plt\n",
    "import seaborn as sns\n",
    "from sklearn.model_selection import train_test_split\n",
    "from sklearn.linear_model import LinearRegression\n",
    "from sklearn.ensemble import RandomForestRegressor\n",
    "from sklearn.metrics import mean_squared_error, r2_score\n",
    "import joblib"
   ]
  },
  {
   "cell_type": "code",
   "execution_count": 2,
   "metadata": {},
   "outputs": [],
   "source": [
    "# Load the dataset\n",
    "data_path_houses = 'annonces_maison_expat_dakar.xlsx'\n",
    "df_houses = pd.read_excel(data_path_houses, sheet_name='Sheet1')"
   ]
  },
  {
   "cell_type": "code",
   "execution_count": 3,
   "metadata": {},
   "outputs": [
    {
     "name": "stdout",
     "output_type": "stream",
     "text": [
      "                                      Titre           Prix         Adresse  \\\n",
      "0                    Combine Beko 3 tiroirs  225 000 F Cfa  Colobane Dakar   \n",
      "1                             Salon 7 place  550 000 F Cfa    Médina Dakar   \n",
      "2                             Salon 7 place  550 000 F Cfa    Médina Dakar   \n",
      "3                         Chambre à coucher  750 000 F Cfa    Médina Dakar   \n",
      "4  Lots de 6 chaises style scandinave MALMÔ  165 000 F Cfa   Plateau Dakar   \n",
      "\n",
      "     Etat                                        Description  \n",
      "0  Venant  Réfrigérateur beko combiné 3 tiroirs original ...  \n",
      "1    Neuf  Bienvenue chez mobilier confort Neveu arrivage...  \n",
      "2    Neuf  Bienvenue chez mobilier confort Neveu arrivage...  \n",
      "3    Neuf  Bienvenue chez mobilier confort Neveu arrivage...  \n",
      "4    Neuf  Lots de 6 chaises style scandinave MALMÔ venan...  \n"
     ]
    }
   ],
   "source": [
    "# Visualiser les 5 premières lignes du dataframe\n",
    "print(df_houses.head())"
   ]
  },
  {
   "cell_type": "code",
   "execution_count": 4,
   "metadata": {},
   "outputs": [
    {
     "name": "stdout",
     "output_type": "stream",
     "text": [
      "<class 'pandas.core.frame.DataFrame'>\n",
      "RangeIndex: 7069 entries, 0 to 7068\n",
      "Data columns (total 5 columns):\n",
      " #   Column       Non-Null Count  Dtype \n",
      "---  ------       --------------  ----- \n",
      " 0   Titre        7069 non-null   object\n",
      " 1   Prix         6769 non-null   object\n",
      " 2   Adresse      7067 non-null   object\n",
      " 3   Etat         7058 non-null   object\n",
      " 4   Description  7068 non-null   object\n",
      "dtypes: object(5)\n",
      "memory usage: 276.3+ KB\n",
      "None\n"
     ]
    }
   ],
   "source": [
    "# Obtenir des informations sur le dataframe\n",
    "print(df_houses.info())"
   ]
  },
  {
   "cell_type": "code",
   "execution_count": 5,
   "metadata": {},
   "outputs": [],
   "source": [
    "# Data Preprocessing\n",
    "# Remove currency symbols and convert Prix to numeric\n",
    "df_houses['Prix'] = df_houses['Prix'].str.replace('\\u202f', '').str.replace(' F Cfa', '').str.replace(' ', '').astype(float)\n"
   ]
  },
  {
   "cell_type": "code",
   "execution_count": 6,
   "metadata": {},
   "outputs": [],
   "source": [
    "# Drop rows with missing target or features\n",
    "df_houses = df_houses.dropna(subset=['Prix', 'Etat'])\n"
   ]
  },
  {
   "cell_type": "code",
   "execution_count": 7,
   "metadata": {},
   "outputs": [],
   "source": [
    "# Convert categorical features to dummy variables\n",
    "df_houses = pd.get_dummies(df_houses, columns=['Etat'], drop_first=True)"
   ]
  },
  {
   "cell_type": "code",
   "execution_count": 8,
   "metadata": {},
   "outputs": [
    {
     "data": {
      "image/png": "[encoded data removed]",
      "text/plain": [
       "<Figure size 1000x600 with 1 Axes>"
      ]
     },
     "metadata": {},
     "output_type": "display_data"
    }
   ],
   "source": [
    "# EDA: Visualizing relationships\n",
    "plt.figure(figsize=(10, 6))\n",
    "sns.boxplot(data=df_houses, x='Etat_Neuf', y='Prix')\n",
    "plt.title('Prix en fonction de l\\'Etat du produit')\n",
    "plt.xlabel('Etat (Neuf ou Non)')\n",
    "plt.ylabel('Prix (F CFA)')\n",
    "plt.show()\n"
   ]
  },
  {
   "cell_type": "code",
   "execution_count": 9,
   "metadata": {},
   "outputs": [],
   "source": [
    "# Splitting the dataset\n",
    "X_houses = df_houses.drop(columns=['Prix', 'Titre', 'Adresse', 'Description'])\n",
    "y_houses = df_houses['Prix']\n",
    "X_train_houses, X_test_houses, y_train_houses, y_test_houses = train_test_split(X_houses, y_houses, test_size=0.2, random_state=42)\n"
   ]
  },
  {
   "cell_type": "code",
   "execution_count": 10,
   "metadata": {},
   "outputs": [],
   "source": [
    "# Model Testing\n",
    "models_houses = {\n",
    "    'Linear Regression': LinearRegression(),\n",
    "    'Random Forest': RandomForestRegressor(random_state=42)\n",
    "}"
   ]
  },
  {
   "cell_type": "code",
   "execution_count": 11,
   "metadata": {},
   "outputs": [],
   "source": [
    "results_houses = {}\n",
    "for name, model in models_houses.items():\n",
    "    model.fit(X_train_houses, y_train_houses)\n",
    "    predictions = model.predict(X_test_houses)\n",
    "    mse = mean_squared_error(y_test_houses, predictions)\n",
    "    r2 = r2_score(y_test_houses, predictions)\n",
    "    results_houses[name] = {'MSE': mse, 'R2': r2}"
   ]
  },
  {
   "cell_type": "code",
   "execution_count": 12,
   "metadata": {},
   "outputs": [],
   "source": [
    "# Select the best model\n",
    "best_model_name_houses = max(results_houses, key=lambda x: results_houses[x]['R2'])\n",
    "best_model_houses = models_houses[best_model_name_houses]"
   ]
  },
  {
   "cell_type": "code",
   "execution_count": 13,
   "metadata": {},
   "outputs": [
    {
     "data": {
      "text/plain": [
       "['best_model_Maisons.pkl']"
      ]
     },
     "execution_count": 13,
     "metadata": {},
     "output_type": "execute_result"
    }
   ],
   "source": [
    "# Save the best model\n",
    "model_path_houses = 'best_model_Maisons.pkl'\n",
    "joblib.dump(best_model_houses, model_path_houses)"
   ]
  },
  {
   "cell_type": "code",
   "execution_count": 14,
   "metadata": {},
   "outputs": [
    {
     "name": "stdout",
     "output_type": "stream",
     "text": [
      "Best Model: Random Forest\n",
      "Performance Metrics:\n",
      "Linear Regression: MSE = 1582927296271.69, R2 = -6.31\n",
      "Random Forest: MSE = 1486339215040.53, R2 = -5.86\n"
     ]
    }
   ],
   "source": [
    "# Display results\n",
    "print(f\"Best Model: {best_model_name_houses}\")\n",
    "print(\"Performance Metrics:\")\n",
    "for name, metrics in results_houses.items():\n",
    "    print(f\"{name}: MSE = {metrics['MSE']:.2f}, R2 = {metrics['R2']:.2f}\")\n"
   ]
  },
  {
   "cell_type": "code",
   "execution_count": null,
   "metadata": {
    "vscode": {
     "languageId": "markdown"
    }
   },
   "outputs": [],
   "source": [
    "Les résultats montrent que les deux modèles, la régression linéaire et la forêt aléatoire, n'ont pas bien performé sur ce jeu de données. Voici quelques points clés :\n",
    "\n",
    "1. **Erreur Quadratique Moyenne (MSE)** :\n",
    "    - Régression Linéaire : 1582927296271.6943\n",
    "    - Forêt Aléatoire : 1486339215040.5288\n",
    "\n",
    "    Les valeurs de MSE sont très élevées, ce qui indique que les prédictions des modèles sont loin des valeurs réelles.\n",
    "\n",
    "2. **Coefficient de Détermination (R²)** :\n",
    "    - Régression Linéaire : -6.309328136945956\n",
    "    - Forêt Aléatoire : -5.863322826721396\n",
    "\n",
    "    Les valeurs de R² sont négatives, ce qui signifie que les modèles ne capturent pas du tout la variance des données. En fait, un R² négatif indique que le modèle est pire que la moyenne des valeurs observées.\n",
    "\n",
    "Ces résultats suggèrent que les modèles actuels ne sont pas adaptés pour prédire les prix des maisons avec les caractéristiques fournies. Voici quelques suggestions pour améliorer les performances :\n",
    "\n",
    "1. **Feature Engineering** : Ajouter ou transformer des caractéristiques pour mieux capturer les relations dans les données.\n",
    "2. **Hyperparameter Tuning** : Ajuster les hyperparamètres des modèles pour améliorer leurs performances.\n",
    "3. **Modèles Avancés** : Essayer des modèles plus complexes comme les réseaux de neurones ou les modèles de gradient boosting.\n",
    "4. **Nettoyage des Données** : Vérifier s'il y a des anomalies ou des valeurs aberrantes dans les données qui pourraient affecter les performances des modèles.\n",
    "\n",
    "Vous pouvez également visualiser les prédictions par rapport aux valeurs réelles pour mieux comprendre les erreurs des modèles."
   ]
  },
  {
   "cell_type": "code",
   "execution_count": null,
   "metadata": {
    "vscode": {
     "languageId": "markdown"
    }
   },
   "outputs": [],
   "source": [
    "```markdown\n",
    "## Propositions de Solutions pour Améliorer les Performances des Modèles\n",
    "\n",
    "Les résultats actuels montrent que les modèles de régression linéaire et de forêt aléatoire n'ont pas bien performé sur ce jeu de données. Voici quelques suggestions pour améliorer les performances :\n",
    "\n",
    "1. **Feature Engineering** :\n",
    "    - Ajouter ou transformer des caractéristiques pour mieux capturer les relations dans les données.\n",
    "    - Par exemple, créer des variables dérivées comme le prix par mètre carré, ou des interactions entre les variables existantes.\n",
    "\n",
    "2. **Hyperparameter Tuning** :\n",
    "    - Ajuster les hyperparamètres des modèles pour améliorer leurs performances.\n",
    "    - Utiliser des techniques comme la recherche en grille (Grid Search) ou la recherche aléatoire (Random Search) pour trouver les meilleurs paramètres.\n",
    "\n",
    "3. **Modèles Avancés** :\n",
    "    - Essayer des modèles plus complexes comme les réseaux de neurones, les modèles de gradient boosting (e.g., XGBoost, LightGBM), ou les modèles de support vector machines (SVM).\n",
    "    - Ces modèles peuvent capturer des relations non linéaires et des interactions complexes entre les variables.\n",
    "\n",
    "4. **Nettoyage des Données** :\n",
    "    - Vérifier s'il y a des anomalies ou des valeurs aberrantes dans les données qui pourraient affecter les performances des modèles.\n",
    "    - Utiliser des techniques de détection et de traitement"
   ]
  },
  {
   "cell_type": "code",
   "execution_count": null,
   "metadata": {
    "vscode": {
     "languageId": "markdown"
    }
   },
   "outputs": [],
   "source": []
  }
 ],
 "metadata": {
  "kernelspec": {
   "display_name": "Python 3",
   "language": "python",
   "name": "python3"
  },
  "language_info": {
   "codemirror_mode": {
    "name": "ipython",
    "version": 3
   },
   "file_extension": ".py",
   "mimetype": "text/x-python",
   "name": "python",
   "nbconvert_exporter": "python",
   "pygments_lexer": "ipython3",
   "version": "3.8.2"
  }
 },
 "nbformat": 4,
 "nbformat_minor": 2
}
