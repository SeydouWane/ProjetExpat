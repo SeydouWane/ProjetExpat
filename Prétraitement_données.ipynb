{
  "nbformat": 4,
  "nbformat_minor": 0,
  "metadata": {
    "colab": {
      "provenance": []
    },
    "kernelspec": {
      "name": "python3",
      "display_name": "Python 3"
    },
    "language_info": {
      "name": "python"
    }
  },
  "cells": [
    {
      "cell_type": "code",
      "execution_count": null,
      "metadata": {
        "id": "A_psKIxp7uOO"
      },
      "outputs": [],
      "source": [
        "#!pip install nltk\n",
        "#!pip install spacy"
      ]
    },
    {
      "cell_type": "code",
      "source": [
        "import pandas as pd\n",
        "import numpy as np\n",
        "import re\n",
        "from sklearn.preprocessing import StandardScaler\n",
        "from sklearn.feature_extraction.text import CountVectorizer\n",
        "from nltk.corpus import stopwords\n",
        "from nltk.tokenize import word_tokenize\n",
        "import nltk\n",
        "\n",
        "# Télécharger explicitement la ressource 'punkt' et les stopwords\n",
        "nltk.download('punkt')\n",
        "nltk.download('stopwords')\n",
        "\n",
        "nltk.download('punkt_tab')  # Téléchargement de la ressource spécifique\n",
        "\n",
        "from nltk.corpus import stopwords\n",
        "nltk.download('stopwords')\n",
        "\n",
        "# 1. Gestion des valeurs manquantes\n",
        "# Remplir les valeurs manquantes dans les colonnes 'Prix' et 'Adresse' par 'Inconnu'\n",
        "df['Prix'] = df['Prix'].fillna('Inconnu')\n",
        "df['Adresse'] = df['Adresse'].fillna('Inconnu')\n",
        "df['Description'] = df['Description'].fillna('Aucune description')\n",
        "\n",
        "# 2. Transformation des prix en valeurs numériques\n",
        "def convert_price(price_str):\n",
        "    # Vérifier si la valeur est une chaîne avant de traiter\n",
        "    if isinstance(price_str, str):\n",
        "        # Supprimer le \"F Cfa\" et les espaces\n",
        "        price_str = re.sub(r'[^\\d]', '', price_str)  # Supprimer tout sauf les chiffres\n",
        "        return float(price_str) if price_str else np.nan\n",
        "    return np.nan  # Si ce n'est pas une chaîne, retourner NaN\n",
        "df['Prix'] = df['Prix'].apply(convert_price)\n",
        "\n",
        "\n",
        "# Appliquer le prétraitement à la description\n",
        "df['Description'] = df['Description'].apply(preprocess_text)\n",
        "\n",
        "# 4. Suppression des stopwords\n",
        "stop_words = set(stopwords.words('french'))\n",
        "\n",
        "def remove_stopwords(text):\n",
        "    tokens = word_tokenize(text)\n",
        "    filtered_tokens = [word for word in tokens if word not in stop_words]\n",
        "    return \" \".join(filtered_tokens)\n",
        "\n",
        "df['Description'] = df['Description'].apply(remove_stopwords)\n",
        "\n",
        "# 5. Normalisation ou mise à l'échelle des données si nécessaire\n",
        "scaler = StandardScaler()\n",
        "df['Prix_scaled'] = scaler.fit_transform(df[['Prix']])\n",
        "\n",
        "# Sauvegarder le fichier prétraité en Excel\n",
        "output_path = '/content/drive/My Drive/Cas_etude_industriel/annonces_maison_pretraite.xlsx'\n",
        "df.to_excel(output_path, index=False)\n",
        "\n",
        "print(f\"Le fichier prétraité a été sauvegardé sous {output_path}.\")\n"
      ],
      "metadata": {
        "id": "L2Lcp_bk70n8"
      },
      "execution_count": null,
      "outputs": []
    }
  ]
}